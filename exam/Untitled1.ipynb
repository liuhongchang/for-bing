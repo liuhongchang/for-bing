{
 "cells": [
  {
   "cell_type": "code",
   "execution_count": 1,
   "id": "bd44160b",
   "metadata": {},
   "outputs": [
    {
     "ename": "SyntaxError",
     "evalue": "invalid syntax (1143350791.py, line 1)",
     "output_type": "error",
     "traceback": [
      "\u001b[1;36m  File \u001b[1;32m\"C:\\Users\\28708\\AppData\\Local\\Temp\\ipykernel_7040\\1143350791.py\"\u001b[1;36m, line \u001b[1;32m1\u001b[0m\n\u001b[1;33m    PS C:\\Users\\28708\\Desktop\\评估与预测的相关代码\\exam> virtualenv venv\u001b[0m\n\u001b[1;37m       ^\u001b[0m\n\u001b[1;31mSyntaxError\u001b[0m\u001b[1;31m:\u001b[0m invalid syntax\n"
     ]
    }
   ],
   "source": [
    "PS C:\\Users\\28708\\Desktop\\评估与预测的相关代码\\exam> virtualenv venv"
   ]
  },
  {
   "cell_type": "code",
   "execution_count": 2,
   "id": "4e1f3a77",
   "metadata": {},
   "outputs": [
    {
     "ename": "SyntaxError",
     "evalue": "unexpected character after line continuation character (3602119249.py, line 1)",
     "output_type": "error",
     "traceback": [
      "\u001b[1;36m  File \u001b[1;32m\"C:\\Users\\28708\\AppData\\Local\\Temp\\ipykernel_7040\\3602119249.py\"\u001b[1;36m, line \u001b[1;32m1\u001b[0m\n\u001b[1;33m    C:\\Users\\28708\\Desktop\\评估与预测的相关代码\\exam> virtualenv venv\u001b[0m\n\u001b[1;37m       ^\u001b[0m\n\u001b[1;31mSyntaxError\u001b[0m\u001b[1;31m:\u001b[0m unexpected character after line continuation character\n"
     ]
    }
   ],
   "source": [
    "C:\\Users\\28708\\Desktop\\评估与预测的相关代码\\exam> virtualenv venv"
   ]
  },
  {
   "cell_type": "code",
   "execution_count": null,
   "id": "7fe7aa98",
   "metadata": {},
   "outputs": [],
   "source": []
  }
 ],
 "metadata": {
  "kernelspec": {
   "display_name": "Python 3 (ipykernel)",
   "language": "python",
   "name": "python3"
  },
  "language_info": {
   "codemirror_mode": {
    "name": "ipython",
    "version": 3
   },
   "file_extension": ".py",
   "mimetype": "text/x-python",
   "name": "python",
   "nbconvert_exporter": "python",
   "pygments_lexer": "ipython3",
   "version": "3.9.13"
  }
 },
 "nbformat": 4,
 "nbformat_minor": 5
}
